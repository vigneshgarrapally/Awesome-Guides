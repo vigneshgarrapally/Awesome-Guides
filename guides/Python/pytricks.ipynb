{
 "cells": [
  {
   "cell_type": "markdown",
   "metadata": {},
   "source": [
    "### [🐍PyTricks]\n",
    "\n",
    "    This notebook is a collection of various short and sweet tricks delivered to my inbox from Real Python.\n",
    "\n",
    "    Subscribe here: (https://realpython.com/python-tricks/)\n",
    "    "
   ]
  },
  {
   "cell_type": "code",
   "execution_count": 4,
   "metadata": {},
   "outputs": [
    {
     "name": "stdout",
     "output_type": "stream",
     "text": [
      "{'a': 1, 'b': 2, 'c': 3, 'd': 4}\n",
      "{'a': 1, 'b': 3, 'd': 4}\n"
     ]
    }
   ],
   "source": [
    "#unpacking generalizations\n",
    "xs = {'a': 1, 'b': 2}\n",
    "ys = {'c': 3, 'd': 4}\n",
    "zs={**xs,**ys}\n",
    "print(zs)\n",
    "ys = {'b': 3, 'd': 4}\n",
    "zs={**xs,**ys}\n",
    "print(zs)\n",
    "\n",
    "# In these examples, Python merges dictionary keys\n",
    "# in the order listed in the expression, overwriting \n",
    "# duplicates from left to right."
   ]
  },
  {
   "cell_type": "code",
   "execution_count": 7,
   "metadata": {},
   "outputs": [
    {
     "name": "stdout",
     "output_type": "stream",
     "text": [
      "passed\n",
      "passed\n",
      "passed\n"
     ]
    }
   ],
   "source": [
    "# Different ways to test multiple\n",
    "# flags at once in Python\n",
    "x, y, z = 0, 1, 0\n",
    "\n",
    "if x == 1 or y == 1 or z == 1:\n",
    "    print('passed')\n",
    "\n",
    "if 1 in (x, y, z):\n",
    "    print('passed')\n",
    "\n",
    "# These only test for truthiness:\n",
    "if x or y or z:\n",
    "    print('passed')\n",
    "\n",
    "if x and y and z:\n",
    "    print('passed')\n",
    "\n",
    "if all((x, y, z)):\n",
    "    print('passed')"
   ]
  },
  {
   "cell_type": "code",
   "execution_count": 8,
   "metadata": {},
   "outputs": [
    {
     "name": "stdout",
     "output_type": "stream",
     "text": [
      "[('d', 1), ('c', 2), ('b', 3), ('a', 4)]\n",
      "[('d', 1), ('c', 2), ('b', 3), ('a', 4)]\n"
     ]
    }
   ],
   "source": [
    "# How to sort a Python dict by value\n",
    "# (== get a representation sorted by value)\n",
    "import operator\n",
    "\n",
    "xs = {'a': 4, 'b': 3, 'c': 2, 'd': 1}\n",
    "\n",
    "print(sorted(xs.items(), key=lambda x: x[1]))\n",
    "print(sorted(xs.items(), key=operator.itemgetter(1)))\n"
   ]
  },
  {
   "cell_type": "code",
   "execution_count": 10,
   "metadata": {},
   "outputs": [
    {
     "name": "stdout",
     "output_type": "stream",
     "text": [
      "red\n",
      "3812.4\n",
      "Car(color='red', mileage=3812.4)\n"
     ]
    }
   ],
   "source": [
    "# Why Python is Great: Namedtuples\n",
    "# Using namedtuple is way shorter than\n",
    "# defining a class manually:\n",
    "from collections import namedtuple\n",
    "Car = namedtuple('Car', 'color mileage')\n",
    "\n",
    "# Our new \"Car\" class works as expected:\n",
    "my_car = Car('red', 3812.4)\n",
    "print(my_car.color)\n",
    "\n",
    "print(my_car.mileage)\n",
    "\n",
    "\n",
    "# We get a nice string repr for free:\n",
    "print(my_car)\n",
    "\n",
    "\n",
    "# Like tuples, namedtuples are immutable:\n",
    "#my_car.color = 'blue'\n",
    "#AttributeError: can't set attribute"
   ]
  },
  {
   "cell_type": "code",
   "execution_count": null,
   "metadata": {},
   "outputs": [],
   "source": [
    "import this\n",
    "# The Zen of Python, by Tim Peters\n",
    "\n",
    "# Beautiful is better than ugly.\n",
    "# Explicit is better than implicit.\n",
    "# Simple is better than complex.\n",
    "# Complex is better than complicated.\n",
    "# Flat is better than nested.\n",
    "# Sparse is better than dense.\n",
    "# Readability counts.\n",
    "# Special cases aren't special enough to break the rules.\n",
    "# Although practicality beats purity.\n",
    "# Errors should never pass silently.\n",
    "# Unless explicitly silenced.\n",
    "# In the face of ambiguity, refuse the temptation to guess.\n",
    "# There should be one-- and preferably only one --obvious way to do it.\n",
    "# Although that way may not be obvious at first unless you're Dutch.\n",
    "# Now is better than never.\n",
    "# Although never is often better than *right* now.\n",
    "# If the implementation is hard to explain, it's a bad idea.\n",
    "# If the implementation is easy to explain, it may be a good idea.\n",
    "# Namespaces are one honking great idea -- let's do more of those!\n",
    "\n",
    "#https://stackoverflow.com/questions/5855758/what-is-the-source-code-of-the-this-module-doing?__s=l6dauk79n16bd8udvyya"
   ]
  },
  {
   "cell_type": "code",
   "execution_count": 1,
   "metadata": {},
   "outputs": [],
   "source": [
    "# Here's a fun little CPython easter egg.\n",
    "# Just run the following in a Python 2.7+ \n",
    "# interpreter session:\n",
    "import antigravity"
   ]
  },
  {
   "cell_type": "code",
   "execution_count": 4,
   "metadata": {},
   "outputs": [
    {
     "name": "stdout",
     "output_type": "stream",
     "text": [
      "Counter({'l': 3, 'o': 2, 'H': 1, 'e': 1, ' ': 1, 'w': 1, 'r': 1, 'd': 1})\n"
     ]
    },
    {
     "data": {
      "text/plain": [
       "[('l', 3), ('o', 2), ('H', 1)]"
      ]
     },
     "execution_count": 4,
     "metadata": {},
     "output_type": "execute_result"
    }
   ],
   "source": [
    "import collections\n",
    "c=collections.Counter(\"Hello world\")\n",
    "print(c)\n",
    "c.most_common(3)"
   ]
  },
  {
   "cell_type": "code",
   "execution_count": null,
   "metadata": {},
   "outputs": [],
   "source": [
    "# itertools.permutations() generates permutations \n",
    "# for an iterable. Time to brute-force those passwords ;-)\n",
    "\n",
    "import itertools\n",
    "for p in itertools.permutations('ABCD'):\n",
    "    print(p)"
   ]
  },
  {
   "cell_type": "code",
   "execution_count": 9,
   "metadata": {},
   "outputs": [
    {
     "name": "stdout",
     "output_type": "stream",
     "text": [
      "2021-10-17\n",
      "datetime.date(2021, 10, 17)\n",
      "2021-10-17\n"
     ]
    },
    {
     "data": {
      "text/plain": [
       "datetime.date(2021, 10, 17)"
      ]
     },
     "execution_count": 9,
     "metadata": {},
     "output_type": "execute_result"
    }
   ],
   "source": [
    "# When To Use __repr__ vs __str__?\n",
    "# Emulate what the std lib does:\n",
    "import datetime\n",
    "today = datetime.date.today()\n",
    "\n",
    "# Result of __str__ should be readable:\n",
    "print(str(today))\n",
    "\n",
    "\n",
    "# Result of __repr__ should be unambiguous:\n",
    "print(repr(today))\n",
    "\n",
    "print(today)\n",
    "# Python interpreter sessions use \n",
    "# __repr__ to inspect objects:\n",
    "\n",
    "today"
   ]
  },
  {
   "cell_type": "code",
   "execution_count": 12,
   "metadata": {},
   "outputs": [
    {
     "name": "stdout",
     "output_type": "stream",
     "text": [
      "Hello, Dan!\n",
      "  6           0 LOAD_CONST               1 ('Hello, ')\n",
      "              2 LOAD_FAST                0 (name)\n",
      "              4 BINARY_ADD\n",
      "              6 LOAD_CONST               2 ('!')\n",
      "              8 BINARY_ADD\n",
      "             10 RETURN_VALUE\n"
     ]
    }
   ],
   "source": [
    "# You can use Python's built-in \"dis\"\n",
    "# module to disassemble functions and\n",
    "# inspect their CPython VM bytecode:\n",
    "\n",
    "def greet(name):\n",
    "   return 'Hello, ' + name + '!'\n",
    "\n",
    "print(greet('Dan'))\n",
    "\n",
    "\n",
    "import dis\n",
    "dis.dis(greet)"
   ]
  },
  {
   "cell_type": "code",
   "execution_count": null,
   "metadata": {},
   "outputs": [],
   "source": [
    "\n",
    "# @classmethod vs @staticmethod vs \"plain\" methods\n",
    "# What's the difference?\n",
    "\n",
    "class MyClass:\n",
    "    def method(self):\n",
    "        \"\"\"\n",
    "        Instance methods need a class instance and\n",
    "        can access the instance through `self`.\n",
    "        \"\"\"\n",
    "        return 'instance method called', self\n",
    "\n",
    "    @classmethod\n",
    "    def classmethod(cls):\n",
    "        \"\"\"\n",
    "        Class methods don't need a class instance.\n",
    "        They can't access the instance (self) but\n",
    "        they have access to the class itself via `cls`.\n",
    "        \"\"\"\n",
    "        return 'class method called', cls\n",
    "\n",
    "    @staticmethod\n",
    "    def staticmethod():\n",
    "        \"\"\"\n",
    "        Static methods don't have access to `cls` or `self`.\n",
    "        They work like regular functions but belong to\n",
    "        the class's namespace.\n",
    "        \"\"\"\n",
    "        return 'static method called'\n",
    "\n",
    "# All methods types can be\n",
    "# called on a class instance:\n",
    "obj = MyClass()\n",
    "print(obj.method())\n",
    "\n",
    "print(obj.classmethod())\n",
    "\n",
    "print(obj.staticmethod())\n",
    "\n",
    "\n",
    "\n",
    "print(MyClass.classmethod())\n",
    "\n",
    "print(MyClass.staticmethod())\n",
    "\n",
    "print(MyClass.method())\n",
    "\n"
   ]
  },
  {
   "cell_type": "code",
   "execution_count": null,
   "metadata": {},
   "outputs": [],
   "source": [
    "# The lambda keyword in Python provides a\n",
    "# shortcut for declaring small and \n",
    "# anonymous functions:\n",
    "\n",
    "add = lambda x, y: x + y\n",
    "print(add(5, 3))\n",
    "#8\n",
    "\n",
    "# You could declare the same add() \n",
    "# function with the def keyword:\n",
    "\n",
    "def add(x, y):\n",
    "    return x + y\n",
    "print(add(5, 3))\n",
    "#8\n",
    "\n",
    "# So what's the big fuss about?\n",
    "# Lambdas are *function expressions*:\n",
    "print((lambda x, y: x + y)(5, 3))\n",
    "#8\n",
    "\n",
    "# • Lambda functions are single-expression \n",
    "# functions that are not necessarily bound\n",
    "# to a name (they can be anonymous).\n",
    "\n",
    "# • Lambda functions can't use regular \n",
    "# Python statements and always include an\n",
    "# implicit `return` statement."
   ]
  },
  {
   "cell_type": "code",
   "execution_count": 15,
   "metadata": {},
   "outputs": [
    {
     "name": "stdout",
     "output_type": "stream",
     "text": [
      "192.168.1.2\n",
      "2001:af3::\n"
     ]
    }
   ],
   "source": [
    "# Python 3 has a std lib\n",
    "# module for working with\n",
    "# IP addresses:\n",
    "\n",
    "import ipaddress\n",
    "\n",
    "print(ipaddress.ip_address('192.168.1.2'))\n",
    "#IPv4Address('192.168.1.2')\n",
    "\n",
    "print(ipaddress.ip_address('2001:af3::'))\n",
    "#IPv6Address('2001:af3::')\n",
    "\n",
    "# Learn more here:\n",
    "# https://docs.python.org/3/library/ipaddress.html"
   ]
  },
  {
   "cell_type": "code",
   "execution_count": 16,
   "metadata": {},
   "outputs": [
    {
     "name": "stdout",
     "output_type": "stream",
     "text": [
      "MyClass\n",
      "myfunc\n"
     ]
    }
   ],
   "source": [
    "# You can get the name of\n",
    "# an object's class as a\n",
    "# string:\n",
    "\n",
    "class MyClass: pass\n",
    "\n",
    "obj = MyClass()\n",
    "print(obj.__class__.__name__)\n",
    "#'MyClass'\n",
    "\n",
    "# Functions have a\n",
    "# similar feature:\n",
    "\n",
    "def myfunc(): pass\n",
    "\n",
    "print(myfunc.__name__)\n",
    "#'myfunc'"
   ]
  },
  {
   "cell_type": "code",
   "execution_count": null,
   "metadata": {},
   "outputs": [],
   "source": []
  }
 ],
 "metadata": {
  "interpreter": {
   "hash": "1b467713a38c2791889761feb403d9d1e595dc07d64bde635da63851172e0969"
  },
  "kernelspec": {
   "display_name": "Python 3.8.8 64-bit ('base': conda)",
   "name": "python3"
  },
  "language_info": {
   "codemirror_mode": {
    "name": "ipython",
    "version": 3
   },
   "file_extension": ".py",
   "mimetype": "text/x-python",
   "name": "python",
   "nbconvert_exporter": "python",
   "pygments_lexer": "ipython3",
   "version": "3.8.8"
  },
  "orig_nbformat": 4
 },
 "nbformat": 4,
 "nbformat_minor": 2
}
